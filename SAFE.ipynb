{
  "nbformat": 4,
  "nbformat_minor": 0,
  "metadata": {
    "colab": {
      "provenance": [],
      "authorship_tag": "ABX9TyPkm/ZGr+Qgi4ujY1D9ysVV",
      "include_colab_link": true
    },
    "kernelspec": {
      "name": "python3",
      "display_name": "Python 3"
    },
    "language_info": {
      "name": "python"
    }
  },
  "cells": [
    {
      "cell_type": "markdown",
      "metadata": {
        "id": "view-in-github",
        "colab_type": "text"
      },
      "source": [
        "<a href=\"https://colab.research.google.com/github/bansi1008/ndvi/blob/main/SAFE.ipynb\" target=\"_parent\"><img src=\"https://colab.research.google.com/assets/colab-badge.svg\" alt=\"Open In Colab\"/></a>"
      ]
    },
    {
      "cell_type": "code",
      "execution_count": 1,
      "metadata": {
        "colab": {
          "base_uri": "https://localhost:8080/"
        },
        "id": "jgBZ3f_qaypc",
        "outputId": "fd109df0-e1a1-44df-94cb-5333c0ec9b6c"
      },
      "outputs": [
        {
          "output_type": "stream",
          "name": "stdout",
          "text": [
            "Collecting rasterio\n",
            "  Downloading rasterio-1.4.3-cp311-cp311-manylinux_2_17_x86_64.manylinux2014_x86_64.whl.metadata (9.1 kB)\n",
            "Requirement already satisfied: numpy in /usr/local/lib/python3.11/dist-packages (2.0.2)\n",
            "Requirement already satisfied: matplotlib in /usr/local/lib/python3.11/dist-packages (3.10.0)\n",
            "Collecting affine (from rasterio)\n",
            "  Downloading affine-2.4.0-py3-none-any.whl.metadata (4.0 kB)\n",
            "Requirement already satisfied: attrs in /usr/local/lib/python3.11/dist-packages (from rasterio) (25.3.0)\n",
            "Requirement already satisfied: certifi in /usr/local/lib/python3.11/dist-packages (from rasterio) (2025.6.15)\n",
            "Requirement already satisfied: click>=4.0 in /usr/local/lib/python3.11/dist-packages (from rasterio) (8.2.1)\n",
            "Collecting cligj>=0.5 (from rasterio)\n",
            "  Downloading cligj-0.7.2-py3-none-any.whl.metadata (5.0 kB)\n",
            "Collecting click-plugins (from rasterio)\n",
            "  Downloading click_plugins-1.1.1.2-py2.py3-none-any.whl.metadata (6.5 kB)\n",
            "Requirement already satisfied: pyparsing in /usr/local/lib/python3.11/dist-packages (from rasterio) (3.2.3)\n",
            "Requirement already satisfied: contourpy>=1.0.1 in /usr/local/lib/python3.11/dist-packages (from matplotlib) (1.3.2)\n",
            "Requirement already satisfied: cycler>=0.10 in /usr/local/lib/python3.11/dist-packages (from matplotlib) (0.12.1)\n",
            "Requirement already satisfied: fonttools>=4.22.0 in /usr/local/lib/python3.11/dist-packages (from matplotlib) (4.58.4)\n",
            "Requirement already satisfied: kiwisolver>=1.3.1 in /usr/local/lib/python3.11/dist-packages (from matplotlib) (1.4.8)\n",
            "Requirement already satisfied: packaging>=20.0 in /usr/local/lib/python3.11/dist-packages (from matplotlib) (24.2)\n",
            "Requirement already satisfied: pillow>=8 in /usr/local/lib/python3.11/dist-packages (from matplotlib) (11.2.1)\n",
            "Requirement already satisfied: python-dateutil>=2.7 in /usr/local/lib/python3.11/dist-packages (from matplotlib) (2.9.0.post0)\n",
            "Requirement already satisfied: six>=1.5 in /usr/local/lib/python3.11/dist-packages (from python-dateutil>=2.7->matplotlib) (1.17.0)\n",
            "Downloading rasterio-1.4.3-cp311-cp311-manylinux_2_17_x86_64.manylinux2014_x86_64.whl (22.2 MB)\n",
            "\u001b[2K   \u001b[90m━━━━━━━━━━━━━━━━━━━━━━━━━━━━━━━━━━━━━━━━\u001b[0m \u001b[32m22.2/22.2 MB\u001b[0m \u001b[31m63.3 MB/s\u001b[0m eta \u001b[36m0:00:00\u001b[0m\n",
            "\u001b[?25hDownloading cligj-0.7.2-py3-none-any.whl (7.1 kB)\n",
            "Downloading affine-2.4.0-py3-none-any.whl (15 kB)\n",
            "Downloading click_plugins-1.1.1.2-py2.py3-none-any.whl (11 kB)\n",
            "Installing collected packages: cligj, click-plugins, affine, rasterio\n",
            "Successfully installed affine-2.4.0 click-plugins-1.1.1.2 cligj-0.7.2 rasterio-1.4.3\n",
            "Libraries installed successfully!\n"
          ]
        }
      ],
      "source": [
        "!pip install rasterio numpy matplotlib\n",
        "\n",
        "print(\"Libraries installed successfully!\")"
      ]
    },
    {
      "cell_type": "code",
      "source": [
        "from google.colab import drive\n",
        "\n",
        "# Mount Google Drive\n",
        "drive.mount('/content/drive')\n",
        "\n",
        "print(\"Google Drive mounted successfully!\")\n",
        "print(\"You can now access your 'My Drive' contents at /content/drive/My Drive/\")"
      ],
      "metadata": {
        "colab": {
          "base_uri": "https://localhost:8080/"
        },
        "id": "9jkwgwWmbDk3",
        "outputId": "c0bd1ba5-20ad-4784-874d-e08e6debb467"
      },
      "execution_count": 2,
      "outputs": [
        {
          "output_type": "stream",
          "name": "stdout",
          "text": [
            "Mounted at /content/drive\n",
            "Google Drive mounted successfully!\n",
            "You can now access your 'My Drive' contents at /content/drive/My Drive/\n"
          ]
        }
      ]
    },
    {
      "cell_type": "code",
      "source": [],
      "metadata": {
        "id": "y2C_-Hl3bDp4"
      },
      "execution_count": null,
      "outputs": []
    },
    {
      "cell_type": "code",
      "source": [],
      "metadata": {
        "id": "9VZtoG9wbDsr"
      },
      "execution_count": null,
      "outputs": []
    },
    {
      "cell_type": "code",
      "source": [],
      "metadata": {
        "id": "ZA-RbZ6NbDvK"
      },
      "execution_count": null,
      "outputs": []
    },
    {
      "cell_type": "code",
      "source": [],
      "metadata": {
        "id": "5K5xypEbbDxw"
      },
      "execution_count": null,
      "outputs": []
    },
    {
      "cell_type": "code",
      "source": [],
      "metadata": {
        "id": "qlXuQYGebD0N"
      },
      "execution_count": null,
      "outputs": []
    },
    {
      "cell_type": "code",
      "source": [],
      "metadata": {
        "id": "4RwO6KDDbD2x"
      },
      "execution_count": null,
      "outputs": []
    },
    {
      "cell_type": "code",
      "source": [],
      "metadata": {
        "id": "TWAlYkvzbD6H"
      },
      "execution_count": null,
      "outputs": []
    },
    {
      "cell_type": "code",
      "source": [
        "import os\n",
        "import rasterio\n",
        "import numpy as np\n",
        "import matplotlib.pyplot as plt\n",
        "from rasterio.plot import show\n",
        "\n",
        "\n",
        "download_directory = \"/content/drive/My Drive\"\n",
        "\n",
        "print(f\"Set download directory to: {download_directory}\")\n",
        "\n",
        "# --- Helper function to find the band files ---\n",
        "def find_band_file(base_dir, band_name_part):\n",
        "\n",
        "    for file in os.listdir(base_dir):\n",
        "        if band_name_part in file and (file.endswith('.jp2') or file.endswith('.tif')):\n",
        "            return os.path.join(base_dir, file)\n",
        "    return None\n",
        "\n",
        "print(\"Searching for band files...\")\n",
        "\n",
        "\n",
        "red_band_path = find_band_file(download_directory, 'B04_10m')\n",
        "nir_band_path = find_band_file(download_directory, 'B08_10m')\n",
        "\n",
        "\n",
        "if red_band_path and nir_band_path:\n",
        "    print(f\"Found Red band (B04): {red_band_path}\")\n",
        "    print(f\"Found NIR band (B08): {nir_band_path}\")\n",
        "\n",
        "\n",
        "    try:\n",
        "        # Open Red band and read its data and profile (metadata)\n",
        "        with rasterio.open(red_band_path) as src_red:\n",
        "            red = src_red.read(1).astype(float)\n",
        "            profile = src_red.profile\n",
        "\n",
        "        #This will open NIR band and read its data\n",
        "        with rasterio.open(nir_band_path) as src_nir:\n",
        "            nir = src_nir.read(1).astype(float)\n",
        "\n",
        "        # Ensure bands have the same shape - crucial for arithmetic operations\n",
        "        if red.shape != nir.shape:\n",
        "            # If shapes differ, crop to the smallest common extent\n",
        "            min_rows = min(red.shape[0], nir.shape[0])\n",
        "            min_cols = min(red.shape[1], nir.shape[1])\n",
        "            red = red[:min_rows, :min_cols]\n",
        "            nir = nir[:min_rows, :min_cols]\n",
        "            print(f\"Warning: Bands had different shapes. Reshaped to common size: {red.shape}\")\n",
        "\n",
        "        # --- Calculate NDVI ---\n",
        "        # Handle zero or near-zero values to prevent division by zero errors\n",
        "        # Set areas with 0 (often no-data or water) to NaN to exclude from NDVI\n",
        "        red[red == 0] = np.nan\n",
        "        nir[nir == 0] = np.nan\n",
        "\n",
        "        # Perform NDVI calculation. Use np.errstate to suppress warnings for NaN operations.\n",
        "        with np.errstate(divide='ignore', invalid='ignore'):\n",
        "            ndvi = (nir - red) / (nir + red)\n",
        "\n",
        "        # Set NoData value for areas where NDVI couldn't be calculated (NaNs)\n",
        "        ndvi[np.isnan(ndvi)] = -9999 # A common no-data value in remote sensing\n",
        "\n",
        "        print(\"NDVI calculated successfully!\")\n",
        "\n",
        "        # --- Prepare profile for saving the new NDVI GeoTIFF ---\n",
        "        profile.update(\n",
        "            driver='GTiff',\n",
        "            dtype=rasterio.float32, # NDVI values are float, so use float32\n",
        "            count=1, # NDVI is a single band image\n",
        "            compress='lzw', # Apply LZW compression to reduce file size\n",
        "            nodata=-9999 # Explicitly set the nodata value in the output file\n",
        "        )\n",
        "        # Update width and height in profile in case bands were reshaped\n",
        "        profile.update(width=ndvi.shape[1], height=ndvi.shape[0])\n",
        "\n",
        "\n",
        "        # --- Store and visualize this NDVI data ---\n",
        "        # Construct an output filename based on the input band name\n",
        "        # This extracts the unique part (like T30UWF_20250103T112451)\n",
        "        try:\n",
        "            # Assumes the filename structure: TILEID_DATETIME_BAND_RESOLUTION.jp2\n",
        "            # e.g., T30UWF_20250103T112451_B04_10m.jp2\n",
        "            # We want 'T30UWF_20250103T112451'\n",
        "            filename_parts = os.path.basename(red_band_path).split('_')\n",
        "            # Join the tile ID and datetime part\n",
        "            filename_stem = f\"{filename_parts[0]}_{filename_parts[1]}\"\n",
        "            output_ndvi_filename = f\"ndvi_{filename_stem}.tif\"\n",
        "        except IndexError:\n",
        "            # Fallback if the filename parsing doesn't match expected pattern\n",
        "            output_ndvi_filename = \"ndvi_calculated_image.tif\"\n",
        "\n",
        "        # Define the full path where the NDVI GeoTIFF will be saved (back to My Drive)\n",
        "        output_ndvi_path = os.path.join(download_directory, output_ndvi_filename)\n",
        "\n",
        "        # Write the NDVI array to a new GeoTIFF file\n",
        "        with rasterio.open(output_ndvi_path, 'w', **profile) as dst:\n",
        "            dst.write(ndvi.astype(rasterio.float32), 1)\n",
        "\n",
        "        print(f\"NDVI GeoTIFF saved to: {output_ndvi_path}\")\n",
        "\n",
        "        # --- Visualize the NDVI map using matplotlib and rasterio.plot ---\n",
        "        plt.figure(figsize=(10, 10)) # Set figure size for better viewing\n",
        "        with rasterio.open(output_ndvi_path) as src:\n",
        "            # Display the raster. cmap='RdYlGn' is good for NDVI (Red-Yellow-Green)\n",
        "            # vmin/vmax set the color scale range (-0.2 to 0.9 is typical for NDVI)\n",
        "            show(src, cmap='RdYlGn', vmin=-0.2, vmax=0.9, title=\"NDVI for Newcastle\")\n",
        "            plt.colorbar(label='NDVI Value') # Add a color bar\n",
        "        plt.show() # Display the plot\n",
        "\n",
        "    except Exception as e:\n",
        "        print(f\"An error occurred during band processing or NDVI calculation: {e}\")\n",
        "else:\n",
        "    print(\"ERROR: Could not find the B04_10m.jp2 and/or B08_10m.jp2 band files in your 'My Drive' root folder.\")\n",
        "    print(f\"Please ensure they are directly in: {download_directory}\")\n",
        "    print(\"You can verify files in Colab using: !ls -l '/content/drive/My Drive/'\")"
      ],
      "metadata": {
        "colab": {
          "base_uri": "https://localhost:8080/"
        },
        "id": "1KrgHHb_bDnU",
        "outputId": "dab79382-741a-4a1e-9bdf-ab314bac0f8d"
      },
      "execution_count": null,
      "outputs": [
        {
          "output_type": "stream",
          "name": "stdout",
          "text": [
            "Set download directory to: /content/drive/My Drive\n",
            "Searching for band files...\n",
            "Found Red band (B04): /content/drive/My Drive/T30UWF_20250103T112451_B04_10m.jp2\n",
            "Found NIR band (B08): /content/drive/My Drive/T30UWF_20250103T112451_B08_10m.jp2\n",
            "NDVI calculated successfully!\n",
            "NDVI GeoTIFF saved to: /content/drive/My Drive/ndvi_T30UWF_20250103T112451.tif\n"
          ]
        }
      ]
    }
  ]
}